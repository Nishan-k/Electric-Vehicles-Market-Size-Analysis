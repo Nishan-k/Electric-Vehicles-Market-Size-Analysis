{
 "cells": [
  {
   "cell_type": "markdown",
   "id": "4c93f32a",
   "metadata": {},
   "source": [
    "## 1. Import libraries:"
   ]
  },
  {
   "cell_type": "code",
   "execution_count": 1,
   "id": "6c97bc61",
   "metadata": {},
   "outputs": [],
   "source": [
    "import pandas as pd\n",
    "import numpy as np\n",
    "import seaborn as sns\n",
    "\n",
    "import matplotlib.pyplot as plt\n",
    "%matplotlib inline"
   ]
  },
  {
   "cell_type": "markdown",
   "id": "9a83d7d8",
   "metadata": {},
   "source": [
    "## 2. Read the dataset:"
   ]
  },
  {
   "cell_type": "code",
   "execution_count": 2,
   "id": "d651697b",
   "metadata": {},
   "outputs": [
    {
     "data": {
      "text/html": [
       "<div>\n",
       "<style scoped>\n",
       "    .dataframe tbody tr th:only-of-type {\n",
       "        vertical-align: middle;\n",
       "    }\n",
       "\n",
       "    .dataframe tbody tr th {\n",
       "        vertical-align: top;\n",
       "    }\n",
       "\n",
       "    .dataframe thead th {\n",
       "        text-align: right;\n",
       "    }\n",
       "</style>\n",
       "<table border=\"1\" class=\"dataframe\">\n",
       "  <thead>\n",
       "    <tr style=\"text-align: right;\">\n",
       "      <th></th>\n",
       "      <th>VIN (1-10)</th>\n",
       "      <th>County</th>\n",
       "      <th>City</th>\n",
       "      <th>State</th>\n",
       "      <th>Postal Code</th>\n",
       "      <th>Model Year</th>\n",
       "      <th>Make</th>\n",
       "      <th>Model</th>\n",
       "      <th>Electric Vehicle Type</th>\n",
       "      <th>Clean Alternative Fuel Vehicle (CAFV) Eligibility</th>\n",
       "      <th>Electric Range</th>\n",
       "      <th>Base MSRP</th>\n",
       "      <th>Legislative District</th>\n",
       "      <th>DOL Vehicle ID</th>\n",
       "      <th>Vehicle Location</th>\n",
       "      <th>Electric Utility</th>\n",
       "      <th>2020 Census Tract</th>\n",
       "    </tr>\n",
       "  </thead>\n",
       "  <tbody>\n",
       "    <tr>\n",
       "      <th>0</th>\n",
       "      <td>5YJYGDEE1L</td>\n",
       "      <td>King</td>\n",
       "      <td>Seattle</td>\n",
       "      <td>WA</td>\n",
       "      <td>98122.0</td>\n",
       "      <td>2020</td>\n",
       "      <td>TESLA</td>\n",
       "      <td>MODEL Y</td>\n",
       "      <td>Battery Electric Vehicle (BEV)</td>\n",
       "      <td>Clean Alternative Fuel Vehicle Eligible</td>\n",
       "      <td>291</td>\n",
       "      <td>0</td>\n",
       "      <td>37.0</td>\n",
       "      <td>125701579</td>\n",
       "      <td>POINT (-122.30839 47.610365)</td>\n",
       "      <td>CITY OF SEATTLE - (WA)|CITY OF TACOMA - (WA)</td>\n",
       "      <td>5.303301e+10</td>\n",
       "    </tr>\n",
       "  </tbody>\n",
       "</table>\n",
       "</div>"
      ],
      "text/plain": [
       "   VIN (1-10) County     City State  Postal Code  Model Year   Make    Model  \\\n",
       "0  5YJYGDEE1L   King  Seattle    WA      98122.0        2020  TESLA  MODEL Y   \n",
       "\n",
       "            Electric Vehicle Type  \\\n",
       "0  Battery Electric Vehicle (BEV)   \n",
       "\n",
       "  Clean Alternative Fuel Vehicle (CAFV) Eligibility  Electric Range  \\\n",
       "0           Clean Alternative Fuel Vehicle Eligible             291   \n",
       "\n",
       "   Base MSRP  Legislative District  DOL Vehicle ID  \\\n",
       "0          0                  37.0       125701579   \n",
       "\n",
       "               Vehicle Location                              Electric Utility  \\\n",
       "0  POINT (-122.30839 47.610365)  CITY OF SEATTLE - (WA)|CITY OF TACOMA - (WA)   \n",
       "\n",
       "   2020 Census Tract  \n",
       "0       5.303301e+10  "
      ]
     },
     "execution_count": 2,
     "metadata": {},
     "output_type": "execute_result"
    }
   ],
   "source": [
    "data = pd.read_csv(\"Electric_Vehicle_Population_Data.csv\")\n",
    "data.head(1)"
   ]
  },
  {
   "cell_type": "markdown",
   "id": "a5c37dff",
   "metadata": {},
   "source": [
    "## 3. EDA:"
   ]
  },
  {
   "cell_type": "markdown",
   "id": "60d0005d",
   "metadata": {},
   "source": [
    "#### Checking the null values:"
   ]
  },
  {
   "cell_type": "code",
   "execution_count": 3,
   "id": "2552e176",
   "metadata": {},
   "outputs": [
    {
     "data": {
      "text/plain": [
       "VIN (1-10)                                             0\n",
       "County                                                 5\n",
       "City                                                   5\n",
       "State                                                  0\n",
       "Postal Code                                            5\n",
       "Model Year                                             0\n",
       "Make                                                   0\n",
       "Model                                                  0\n",
       "Electric Vehicle Type                                  0\n",
       "Clean Alternative Fuel Vehicle (CAFV) Eligibility      0\n",
       "Electric Range                                         0\n",
       "Base MSRP                                              0\n",
       "Legislative District                                 389\n",
       "DOL Vehicle ID                                         0\n",
       "Vehicle Location                                       9\n",
       "Electric Utility                                       5\n",
       "2020 Census Tract                                      5\n",
       "dtype: int64"
      ]
     },
     "execution_count": 3,
     "metadata": {},
     "output_type": "execute_result"
    }
   ],
   "source": [
    "data.isna().sum()"
   ]
  },
  {
   "cell_type": "markdown",
   "id": "c9c9f647",
   "metadata": {},
   "source": [
    "There are numerous ways to handle the NULL data but for this case we will drop them."
   ]
  },
  {
   "cell_type": "code",
   "execution_count": 4,
   "id": "0a086522",
   "metadata": {},
   "outputs": [
    {
     "data": {
      "text/plain": [
       "VIN (1-10)                                           0\n",
       "County                                               0\n",
       "City                                                 0\n",
       "State                                                0\n",
       "Postal Code                                          0\n",
       "Model Year                                           0\n",
       "Make                                                 0\n",
       "Model                                                0\n",
       "Electric Vehicle Type                                0\n",
       "Clean Alternative Fuel Vehicle (CAFV) Eligibility    0\n",
       "Electric Range                                       0\n",
       "Base MSRP                                            0\n",
       "Legislative District                                 0\n",
       "DOL Vehicle ID                                       0\n",
       "Vehicle Location                                     0\n",
       "Electric Utility                                     0\n",
       "2020 Census Tract                                    0\n",
       "dtype: int64"
      ]
     },
     "execution_count": 4,
     "metadata": {},
     "output_type": "execute_result"
    }
   ],
   "source": [
    "data = data.dropna()\n",
    "data.isna().sum()"
   ]
  },
  {
   "cell_type": "markdown",
   "id": "b05e8b27",
   "metadata": {},
   "source": [
    "#### Column data types:"
   ]
  },
  {
   "cell_type": "code",
   "execution_count": 5,
   "id": "f70b48cc",
   "metadata": {},
   "outputs": [
    {
     "name": "stdout",
     "output_type": "stream",
     "text": [
      "<class 'pandas.core.frame.DataFrame'>\n",
      "Int64Index: 177473 entries, 0 to 177865\n",
      "Data columns (total 17 columns):\n",
      " #   Column                                             Non-Null Count   Dtype  \n",
      "---  ------                                             --------------   -----  \n",
      " 0   VIN (1-10)                                         177473 non-null  object \n",
      " 1   County                                             177473 non-null  object \n",
      " 2   City                                               177473 non-null  object \n",
      " 3   State                                              177473 non-null  object \n",
      " 4   Postal Code                                        177473 non-null  float64\n",
      " 5   Model Year                                         177473 non-null  int64  \n",
      " 6   Make                                               177473 non-null  object \n",
      " 7   Model                                              177473 non-null  object \n",
      " 8   Electric Vehicle Type                              177473 non-null  object \n",
      " 9   Clean Alternative Fuel Vehicle (CAFV) Eligibility  177473 non-null  object \n",
      " 10  Electric Range                                     177473 non-null  int64  \n",
      " 11  Base MSRP                                          177473 non-null  int64  \n",
      " 12  Legislative District                               177473 non-null  float64\n",
      " 13  DOL Vehicle ID                                     177473 non-null  int64  \n",
      " 14  Vehicle Location                                   177473 non-null  object \n",
      " 15  Electric Utility                                   177473 non-null  object \n",
      " 16  2020 Census Tract                                  177473 non-null  float64\n",
      "dtypes: float64(3), int64(4), object(10)\n",
      "memory usage: 24.4+ MB\n"
     ]
    }
   ],
   "source": [
    "data.info()"
   ]
  },
  {
   "cell_type": "markdown",
   "id": "57af4612",
   "metadata": {},
   "source": [
    "## 4. Analyzing the data:"
   ]
  },
  {
   "cell_type": "markdown",
   "id": "e5605ca0",
   "metadata": {},
   "source": [
    "### 4.1 Increament in EV by the year:"
   ]
  },
  {
   "cell_type": "code",
   "execution_count": 6,
   "id": "9c780385",
   "metadata": {},
   "outputs": [],
   "source": [
    "ev_reg_by_year = data['Model Year'].value_counts().sort_index()\n",
    "dates = list(range(min(ev_reg_by_year.index), max(ev_reg_by_year.index)+1))"
   ]
  },
  {
   "cell_type": "code",
   "execution_count": 7,
   "id": "4621f5ed",
   "metadata": {},
   "outputs": [
    {
     "data": {
      "image/png": "[encoded data removed]",
      "text/plain": [
       "<Figure size 1296x576 with 1 Axes>"
      ]
     },
     "metadata": {},
     "output_type": "display_data"
    }
   ],
   "source": [
    "sns.set_style(\"whitegrid\")\n",
    "plt.figure(figsize=(18, 8))\n",
    "sns.barplot(x=ev_reg_by_year.index, y=ev_reg_by_year.values, palette='viridis')\n",
    "plt.xlabel(\"Model Years\")\n",
    "plt.xticks(rotation='45')\n",
    "plt.ylabel(\"Number of vechicles registered\")\n",
    "plt.title(\"EV Adoption Over Time\")\n",
    "plt.show()"
   ]
  },
  {
   "cell_type": "markdown",
   "id": "1be6dcc2",
   "metadata": {},
   "source": [
    "There seems to be a gradual increment in the registration of the EV with 2023 being the highest. This dataset only contains\n",
    "a few records for the year 2024, so the bar chart seems small."
   ]
  },
  {
   "cell_type": "markdown",
   "id": "bccbbc36",
   "metadata": {},
   "source": [
    "### 4.2 EV based on the counties and cities:"
   ]
  },
  {
   "cell_type": "code",
   "execution_count": 8,
   "id": "95cf1d36",
   "metadata": {},
   "outputs": [],
   "source": [
    "# Top 3 Counties based on the EV registration count:\n",
    "ev_county_distribtution = data['County'].value_counts()\n",
    "top_3_county = ev_county_distribtution.head(3).index\n",
    "\n",
    "\n",
    "# Data related to these top counties:\n",
    "top_counties_data = data[data['County'].isin(top_3_county)]\n",
    "\n",
    "\n",
    "ev_city_distribution = top_counties_data.groupby(['County', 'City']).size().sort_values(ascending=False).reset_index(name='Number of EVs')\n",
    "top_10_cities = ev_city_distribution.head(10)"
   ]
  },
  {
   "cell_type": "code",
   "execution_count": 9,
   "id": "1718688b",
   "metadata": {},
   "outputs": [
    {
     "data": {
      "text/html": [
       "<div>\n",
       "<style scoped>\n",
       "    .dataframe tbody tr th:only-of-type {\n",
       "        vertical-align: middle;\n",
       "    }\n",
       "\n",
       "    .dataframe tbody tr th {\n",
       "        vertical-align: top;\n",
       "    }\n",
       "\n",
       "    .dataframe thead th {\n",
       "        text-align: right;\n",
       "    }\n",
       "</style>\n",
       "<table border=\"1\" class=\"dataframe\">\n",
       "  <thead>\n",
       "    <tr style=\"text-align: right;\">\n",
       "      <th></th>\n",
       "      <th>County</th>\n",
       "      <th>City</th>\n",
       "      <th>Number of EVs</th>\n",
       "    </tr>\n",
       "  </thead>\n",
       "  <tbody>\n",
       "    <tr>\n",
       "      <th>0</th>\n",
       "      <td>King</td>\n",
       "      <td>Seattle</td>\n",
       "      <td>29447</td>\n",
       "    </tr>\n",
       "    <tr>\n",
       "      <th>1</th>\n",
       "      <td>King</td>\n",
       "      <td>Bellevue</td>\n",
       "      <td>8930</td>\n",
       "    </tr>\n",
       "    <tr>\n",
       "      <th>2</th>\n",
       "      <td>King</td>\n",
       "      <td>Redmond</td>\n",
       "      <td>6478</td>\n",
       "    </tr>\n",
       "    <tr>\n",
       "      <th>3</th>\n",
       "      <td>King</td>\n",
       "      <td>Kirkland</td>\n",
       "      <td>5362</td>\n",
       "    </tr>\n",
       "    <tr>\n",
       "      <th>4</th>\n",
       "      <td>King</td>\n",
       "      <td>Sammamish</td>\n",
       "      <td>5280</td>\n",
       "    </tr>\n",
       "    <tr>\n",
       "      <th>5</th>\n",
       "      <td>King</td>\n",
       "      <td>Renton</td>\n",
       "      <td>4980</td>\n",
       "    </tr>\n",
       "    <tr>\n",
       "      <th>6</th>\n",
       "      <td>Snohomish</td>\n",
       "      <td>Bothell</td>\n",
       "      <td>4663</td>\n",
       "    </tr>\n",
       "    <tr>\n",
       "      <th>7</th>\n",
       "      <td>Pierce</td>\n",
       "      <td>Tacoma</td>\n",
       "      <td>3722</td>\n",
       "    </tr>\n",
       "    <tr>\n",
       "      <th>8</th>\n",
       "      <td>King</td>\n",
       "      <td>Tukwila</td>\n",
       "      <td>2927</td>\n",
       "    </tr>\n",
       "    <tr>\n",
       "      <th>9</th>\n",
       "      <td>King</td>\n",
       "      <td>Kent</td>\n",
       "      <td>2782</td>\n",
       "    </tr>\n",
       "  </tbody>\n",
       "</table>\n",
       "</div>"
      ],
      "text/plain": [
       "      County       City  Number of EVs\n",
       "0       King    Seattle          29447\n",
       "1       King   Bellevue           8930\n",
       "2       King    Redmond           6478\n",
       "3       King   Kirkland           5362\n",
       "4       King  Sammamish           5280\n",
       "5       King     Renton           4980\n",
       "6  Snohomish    Bothell           4663\n",
       "7     Pierce     Tacoma           3722\n",
       "8       King    Tukwila           2927\n",
       "9       King       Kent           2782"
      ]
     },
     "execution_count": 9,
     "metadata": {},
     "output_type": "execute_result"
    }
   ],
   "source": [
    "top_10_cities"
   ]
  },
  {
   "cell_type": "code",
   "execution_count": 10,
   "id": "79bdc184",
   "metadata": {},
   "outputs": [
    {
     "data": {
      "image/png": "[encoded data removed]",
      "text/plain": [
       "<Figure size 1224x504 with 1 Axes>"
      ]
     },
     "metadata": {},
     "output_type": "display_data"
    }
   ],
   "source": [
    "plt.figure(figsize=(17, 7))\n",
    "sns.barplot(\n",
    "    x='Number of EVs', \n",
    "    y='City', \n",
    "    hue='County',  \n",
    "    data=top_10_cities, \n",
    "    palette='viridis', \n",
    "    dodge=False  # Ensures bars are stacked and wider\n",
    ")\n",
    "\n",
    "plt.xlabel(\"Number of EVs Registered\")\n",
    "plt.ylabel(\"Cities\")\n",
    "plt.title(\"Number of EVs Registered in Top 10 Cities by County\")\n",
    "\n",
    "\n",
    "plt.legend(title=\"County\")\n",
    "\n",
    "\n",
    "plt.tight_layout(rect=[0, 0, 0.85, 1])  \n",
    "\n",
    "plt.show()"
   ]
  },
  {
   "cell_type": "code",
   "execution_count": 11,
   "id": "8fb5230b",
   "metadata": {},
   "outputs": [
    {
     "data": {
      "text/plain": [
       "King         8\n",
       "Snohomish    1\n",
       "Pierce       1\n",
       "Name: County, dtype: int64"
      ]
     },
     "execution_count": 11,
     "metadata": {},
     "output_type": "execute_result"
    }
   ],
   "source": [
    "top_10_cities['County'].value_counts()"
   ]
  },
  {
   "cell_type": "markdown",
   "id": "a34ea8a9",
   "metadata": {},
   "source": [
    "Out of top-10 cities, majority of the cities are from King County, where 8 are from King, and remaining 2 are from Snohomish and Pierce each.\n",
    "Seattle has the highest number of EV registration count with 29,447 registration sitting at the top of the chart being the most EV registered city. The difference is quite huge compared to Seattle. "
   ]
  },
  {
   "cell_type": "markdown",
   "id": "a59519e9",
   "metadata": {},
   "source": [
    "### 4.3 Understanding BEVs and PHEVs distribution:"
   ]
  },
  {
   "cell_type": "markdown",
   "id": "cf1a5606",
   "metadata": {},
   "source": [
    "**BEVs:**  Battery Electric Vehicles\n",
    "\n",
    "**PHEVs:** Plug-in Hybrid Electric Vehicles "
   ]
  },
  {
   "cell_type": "code",
   "execution_count": 12,
   "id": "de634c1a",
   "metadata": {},
   "outputs": [],
   "source": [
    "battery_type = data['Electric Vehicle Type'].value_counts().reset_index(name='Counts') \\\n",
    "                .rename(columns={'index':'Battery Type'})"
   ]
  },
  {
   "cell_type": "code",
   "execution_count": 13,
   "id": "dcf9f722",
   "metadata": {},
   "outputs": [
    {
     "data": {
      "text/html": [
       "<div>\n",
       "<style scoped>\n",
       "    .dataframe tbody tr th:only-of-type {\n",
       "        vertical-align: middle;\n",
       "    }\n",
       "\n",
       "    .dataframe tbody tr th {\n",
       "        vertical-align: top;\n",
       "    }\n",
       "\n",
       "    .dataframe thead th {\n",
       "        text-align: right;\n",
       "    }\n",
       "</style>\n",
       "<table border=\"1\" class=\"dataframe\">\n",
       "  <thead>\n",
       "    <tr style=\"text-align: right;\">\n",
       "      <th></th>\n",
       "      <th>Battery Type</th>\n",
       "      <th>Counts</th>\n",
       "    </tr>\n",
       "  </thead>\n",
       "  <tbody>\n",
       "    <tr>\n",
       "      <th>0</th>\n",
       "      <td>Battery Electric Vehicle (BEV)</td>\n",
       "      <td>138947</td>\n",
       "    </tr>\n",
       "    <tr>\n",
       "      <th>1</th>\n",
       "      <td>Plug-in Hybrid Electric Vehicle (PHEV)</td>\n",
       "      <td>38526</td>\n",
       "    </tr>\n",
       "  </tbody>\n",
       "</table>\n",
       "</div>"
      ],
      "text/plain": [
       "                             Battery Type  Counts\n",
       "0          Battery Electric Vehicle (BEV)  138947\n",
       "1  Plug-in Hybrid Electric Vehicle (PHEV)   38526"
      ]
     },
     "execution_count": 13,
     "metadata": {},
     "output_type": "execute_result"
    }
   ],
   "source": [
    "battery_type"
   ]
  },
  {
   "cell_type": "code",
   "execution_count": 14,
   "id": "440816b3",
   "metadata": {},
   "outputs": [
    {
     "data": {
      "image/png": "[encoded data removed]",
      "text/plain": [
       "<Figure size 720x504 with 1 Axes>"
      ]
     },
     "metadata": {},
     "output_type": "display_data"
    }
   ],
   "source": [
    "plt.figure(figsize=(10,7))\n",
    "sns.barplot(x=battery_type['Battery Type'], y=battery_type['Counts'])\n",
    "for index, value in enumerate(battery_type['Counts']):\n",
    "    plt.text(index, value, str(value), ha='center', va='bottom', fontsize=12)\n",
    "\n",
    "plt.xlabel(\"Battery Type\", fontsize=12)\n",
    "plt.ylabel(\"Counts\", fontsize=12)\n",
    "plt.tight_layout()\n",
    "plt.show()"
   ]
  },
  {
   "cell_type": "markdown",
   "id": "fb721a4f",
   "metadata": {},
   "source": [
    "Compared to PHEVs, the number of BEVs is significantly higher, which is encouraging. The growing number of people shifting to fully electric vehicles is a positive sign that more are becoming mindful of emissions and their environmental impact."
   ]
  },
  {
   "cell_type": "markdown",
   "id": "c98ea8f5",
   "metadata": {},
   "source": [
    "### 4.4 Understanding the EV manufacturers:"
   ]
  },
  {
   "cell_type": "code",
   "execution_count": 15,
   "id": "112c47e6",
   "metadata": {},
   "outputs": [],
   "source": [
    "top_10_manufacturers = data['Make'].value_counts().sort_values(ascending=False).reset_index(name='Total Count') \\\n",
    "                        .rename(columns={'index':'Companies'}).head(10)"
   ]
  },
  {
   "cell_type": "markdown",
   "id": "2536c3c3",
   "metadata": {},
   "source": [
    "#### The Top-10 EV companies:"
   ]
  },
  {
   "cell_type": "code",
   "execution_count": 16,
   "id": "14484691",
   "metadata": {},
   "outputs": [
    {
     "data": {
      "text/html": [
       "<div>\n",
       "<style scoped>\n",
       "    .dataframe tbody tr th:only-of-type {\n",
       "        vertical-align: middle;\n",
       "    }\n",
       "\n",
       "    .dataframe tbody tr th {\n",
       "        vertical-align: top;\n",
       "    }\n",
       "\n",
       "    .dataframe thead th {\n",
       "        text-align: right;\n",
       "    }\n",
       "</style>\n",
       "<table border=\"1\" class=\"dataframe\">\n",
       "  <thead>\n",
       "    <tr style=\"text-align: right;\">\n",
       "      <th></th>\n",
       "      <th>Companies</th>\n",
       "      <th>Total Count</th>\n",
       "    </tr>\n",
       "  </thead>\n",
       "  <tbody>\n",
       "    <tr>\n",
       "      <th>0</th>\n",
       "      <td>TESLA</td>\n",
       "      <td>79471</td>\n",
       "    </tr>\n",
       "    <tr>\n",
       "      <th>1</th>\n",
       "      <td>NISSAN</td>\n",
       "      <td>13984</td>\n",
       "    </tr>\n",
       "    <tr>\n",
       "      <th>2</th>\n",
       "      <td>CHEVROLET</td>\n",
       "      <td>13651</td>\n",
       "    </tr>\n",
       "    <tr>\n",
       "      <th>3</th>\n",
       "      <td>FORD</td>\n",
       "      <td>9177</td>\n",
       "    </tr>\n",
       "    <tr>\n",
       "      <th>4</th>\n",
       "      <td>BMW</td>\n",
       "      <td>7556</td>\n",
       "    </tr>\n",
       "    <tr>\n",
       "      <th>5</th>\n",
       "      <td>KIA</td>\n",
       "      <td>7423</td>\n",
       "    </tr>\n",
       "    <tr>\n",
       "      <th>6</th>\n",
       "      <td>TOYOTA</td>\n",
       "      <td>6254</td>\n",
       "    </tr>\n",
       "    <tr>\n",
       "      <th>7</th>\n",
       "      <td>VOLKSWAGEN</td>\n",
       "      <td>4993</td>\n",
       "    </tr>\n",
       "    <tr>\n",
       "      <th>8</th>\n",
       "      <td>JEEP</td>\n",
       "      <td>4468</td>\n",
       "    </tr>\n",
       "    <tr>\n",
       "      <th>9</th>\n",
       "      <td>HYUNDAI</td>\n",
       "      <td>4398</td>\n",
       "    </tr>\n",
       "  </tbody>\n",
       "</table>\n",
       "</div>"
      ],
      "text/plain": [
       "    Companies  Total Count\n",
       "0       TESLA        79471\n",
       "1      NISSAN        13984\n",
       "2   CHEVROLET        13651\n",
       "3        FORD         9177\n",
       "4         BMW         7556\n",
       "5         KIA         7423\n",
       "6      TOYOTA         6254\n",
       "7  VOLKSWAGEN         4993\n",
       "8        JEEP         4468\n",
       "9     HYUNDAI         4398"
      ]
     },
     "execution_count": 16,
     "metadata": {},
     "output_type": "execute_result"
    }
   ],
   "source": [
    "top_10_manufacturers"
   ]
  },
  {
   "cell_type": "code",
   "execution_count": 17,
   "id": "c2b74edb",
   "metadata": {},
   "outputs": [
    {
     "data": {
      "image/png": "[encoded data removed]",
      "text/plain": [
       "<Figure size 864x504 with 1 Axes>"
      ]
     },
     "metadata": {},
     "output_type": "display_data"
    }
   ],
   "source": [
    "plt.figure(figsize=(12, 7))\n",
    "sns.barplot(x=top_10_manufacturers['Total Count'], y=top_10_manufacturers['Companies'], palette='coolwarm')\n",
    "plt.tight_layout()\n",
    "plt.ylabel(\"Companies\", fontsize=13)\n",
    "plt.xlabel(\"Count\", fontsize=13)\n",
    "plt.show()"
   ]
  },
  {
   "cell_type": "markdown",
   "id": "cb23b774",
   "metadata": {},
   "source": [
    "TESLA is the most dominant company in the field of EV. There is a huge difference even between the TESLA and NISSAN which\n",
    "is at the second position."
   ]
  },
  {
   "cell_type": "markdown",
   "id": "d67420e6",
   "metadata": {},
   "source": [
    "TESLA, NISSAN, and CHEVROLET are the top 3 EV companies based on the data we have, now let's analyze their products."
   ]
  },
  {
   "cell_type": "markdown",
   "id": "92a4ad14",
   "metadata": {},
   "source": [
    "### 4.5 Analyzing models of top-3 EV Companies:"
   ]
  },
  {
   "cell_type": "code",
   "execution_count": 22,
   "id": "0ab8c2cc",
   "metadata": {},
   "outputs": [],
   "source": [
    "top_3_EV_companies = data[data['Make'].isin(top_10_manufacturers.head(3)['Companies'])]"
   ]
  },
  {
   "cell_type": "code",
   "execution_count": 31,
   "id": "52c8baab",
   "metadata": {},
   "outputs": [],
   "source": [
    "top_3_EV_companies_models = top_3_EV_companies.groupby(['Make', 'Model']).size().sort_values(ascending=False).reset_index(name='Total')"
   ]
  },
  {
   "cell_type": "markdown",
   "id": "cb33e73c",
   "metadata": {},
   "source": [
    "#### Below listed are the models that are designed by the top 3 EV companies:"
   ]
  },
  {
   "cell_type": "code",
   "execution_count": 32,
   "id": "ad11482f",
   "metadata": {},
   "outputs": [
    {
     "data": {
      "text/html": [
       "<div>\n",
       "<style scoped>\n",
       "    .dataframe tbody tr th:only-of-type {\n",
       "        vertical-align: middle;\n",
       "    }\n",
       "\n",
       "    .dataframe tbody tr th {\n",
       "        vertical-align: top;\n",
       "    }\n",
       "\n",
       "    .dataframe thead th {\n",
       "        text-align: right;\n",
       "    }\n",
       "</style>\n",
       "<table border=\"1\" class=\"dataframe\">\n",
       "  <thead>\n",
       "    <tr style=\"text-align: right;\">\n",
       "      <th></th>\n",
       "      <th>Make</th>\n",
       "      <th>Model</th>\n",
       "      <th>Total</th>\n",
       "    </tr>\n",
       "  </thead>\n",
       "  <tbody>\n",
       "    <tr>\n",
       "      <th>0</th>\n",
       "      <td>TESLA</td>\n",
       "      <td>MODEL Y</td>\n",
       "      <td>35921</td>\n",
       "    </tr>\n",
       "    <tr>\n",
       "      <th>1</th>\n",
       "      <td>TESLA</td>\n",
       "      <td>MODEL 3</td>\n",
       "      <td>30009</td>\n",
       "    </tr>\n",
       "    <tr>\n",
       "      <th>2</th>\n",
       "      <td>NISSAN</td>\n",
       "      <td>LEAF</td>\n",
       "      <td>13352</td>\n",
       "    </tr>\n",
       "    <tr>\n",
       "      <th>3</th>\n",
       "      <td>TESLA</td>\n",
       "      <td>MODEL S</td>\n",
       "      <td>7711</td>\n",
       "    </tr>\n",
       "    <tr>\n",
       "      <th>4</th>\n",
       "      <td>CHEVROLET</td>\n",
       "      <td>BOLT EV</td>\n",
       "      <td>6811</td>\n",
       "    </tr>\n",
       "    <tr>\n",
       "      <th>5</th>\n",
       "      <td>TESLA</td>\n",
       "      <td>MODEL X</td>\n",
       "      <td>5784</td>\n",
       "    </tr>\n",
       "    <tr>\n",
       "      <th>6</th>\n",
       "      <td>CHEVROLET</td>\n",
       "      <td>VOLT</td>\n",
       "      <td>4782</td>\n",
       "    </tr>\n",
       "    <tr>\n",
       "      <th>7</th>\n",
       "      <td>CHEVROLET</td>\n",
       "      <td>BOLT EUV</td>\n",
       "      <td>1770</td>\n",
       "    </tr>\n",
       "    <tr>\n",
       "      <th>8</th>\n",
       "      <td>NISSAN</td>\n",
       "      <td>ARIYA</td>\n",
       "      <td>632</td>\n",
       "    </tr>\n",
       "    <tr>\n",
       "      <th>9</th>\n",
       "      <td>CHEVROLET</td>\n",
       "      <td>SPARK</td>\n",
       "      <td>240</td>\n",
       "    </tr>\n",
       "    <tr>\n",
       "      <th>10</th>\n",
       "      <td>TESLA</td>\n",
       "      <td>ROADSTER</td>\n",
       "      <td>46</td>\n",
       "    </tr>\n",
       "    <tr>\n",
       "      <th>11</th>\n",
       "      <td>CHEVROLET</td>\n",
       "      <td>SILVERADO EV</td>\n",
       "      <td>33</td>\n",
       "    </tr>\n",
       "    <tr>\n",
       "      <th>12</th>\n",
       "      <td>CHEVROLET</td>\n",
       "      <td>BLAZER EV</td>\n",
       "      <td>14</td>\n",
       "    </tr>\n",
       "    <tr>\n",
       "      <th>13</th>\n",
       "      <td>CHEVROLET</td>\n",
       "      <td>S-10 PICKUP</td>\n",
       "      <td>1</td>\n",
       "    </tr>\n",
       "  </tbody>\n",
       "</table>\n",
       "</div>"
      ],
      "text/plain": [
       "         Make         Model  Total\n",
       "0       TESLA       MODEL Y  35921\n",
       "1       TESLA       MODEL 3  30009\n",
       "2      NISSAN          LEAF  13352\n",
       "3       TESLA       MODEL S   7711\n",
       "4   CHEVROLET       BOLT EV   6811\n",
       "5       TESLA       MODEL X   5784\n",
       "6   CHEVROLET          VOLT   4782\n",
       "7   CHEVROLET      BOLT EUV   1770\n",
       "8      NISSAN         ARIYA    632\n",
       "9   CHEVROLET         SPARK    240\n",
       "10      TESLA      ROADSTER     46\n",
       "11  CHEVROLET  SILVERADO EV     33\n",
       "12  CHEVROLET     BLAZER EV     14\n",
       "13  CHEVROLET   S-10 PICKUP      1"
      ]
     },
     "execution_count": 32,
     "metadata": {},
     "output_type": "execute_result"
    }
   ],
   "source": [
    "top_3_EV_companies_models"
   ]
  },
  {
   "cell_type": "code",
   "execution_count": 44,
   "id": "55341e6e",
   "metadata": {},
   "outputs": [
    {
     "data": {
      "image/png": "[encoded data removed]",
      "text/plain": [
       "<Figure size 864x576 with 1 Axes>"
      ]
     },
     "metadata": {},
     "output_type": "display_data"
    }
   ],
   "source": [
    "plt.figure(figsize=(12, 8))\n",
    "sns.barplot(x='Total', y='Model', hue='Make', data=top_3_EV_companies_models.head(10), dodge=False)\n",
    "plt.xlabel(\"Total Cars Produced\", fontsize=12)\n",
    "plt.ylabel(\"Models\", fontsize=12)\n",
    "plt.title(\"Top Models of Top-3 EV Companies\")\n",
    "plt.tight_layout()\n",
    "plt.legend(loc='right')\n",
    "plt.show()"
   ]
  },
  {
   "cell_type": "markdown",
   "id": "858860a8",
   "metadata": {},
   "source": [
    "The graph above shows how many electric vehicles from the top three manufacturers—TESLA, NISSAN, and CHEVROLET—are registered, broken down by model. Here's what it shows:\n",
    "\n",
    "TESLA’s MODEL Y and MODEL 3 are the most popular, with MODEL Y having the highest number of registrations. NISSAN’s LEAF is the third most popular and the top non-TESLA model. TESLA’s MODEL S and MODEL X also have a lot of registrations. CHEVROLET’s BOLT EV and VOLT follow with a good number of registrations, and BOLT EUV is next. NISSAN’s ARIYA and CHEVROLET’s SPARK have the fewest registrations among the models listed."
   ]
  },
  {
   "cell_type": "markdown",
   "id": "d6c2ed23",
   "metadata": {},
   "source": [
    "### 4.6 Analyzing the Electric Range On a Single Charge:"
   ]
  },
  {
   "cell_type": "code",
   "execution_count": 57,
   "id": "082e8d6b",
   "metadata": {},
   "outputs": [
    {
     "data": {
      "image/png": "[encoded data removed]",
      "text/plain": [
       "<Figure size 864x504 with 1 Axes>"
      ]
     },
     "metadata": {},
     "output_type": "display_data"
    }
   ],
   "source": [
    "plt.figure(figsize=(12, 7))\n",
    "sns.histplot(data['Electric Range'], kde=True, bins=30)\n",
    "plt.axvline(data['Electric Range'].mean(), color='red', linestyle='--', label=f\"Mean Range: {data['Electric Range'].mean():.2f} Miles\")\n",
    "plt.title(\"Electric Vehicle Distance Coverage in a single charge\", fontsize=13)\n",
    "plt.legend()\n",
    "plt.xlabel(\"Distance (miles)\", fontsize=13)\n",
    "plt.ylabel(\"Number of Vehicles\", fontsize=13)\n",
    "plt.show()"
   ]
  },
  {
   "cell_type": "markdown",
   "id": "913eb8d8",
   "metadata": {},
   "source": [
    "This chart shows the number of vehicles that can travel the distance in a single charge. The red dotted line represents the\n",
    "mean distance which is also represented as the legend i.e. 58.83 Miles but the data is skewed positively. The mean distance\n",
    "is relatively low compared to the distance ranges that the vechicle can cover. "
   ]
  },
  {
   "cell_type": "code",
   "execution_count": null,
   "id": "7fa00a85",
   "metadata": {},
   "outputs": [],
   "source": []
  }
 ],
 "metadata": {
  "kernelspec": {
   "display_name": "Python 3 (ipykernel)",
   "language": "python",
   "name": "python3"
  },
  "language_info": {
   "codemirror_mode": {
    "name": "ipython",
    "version": 3
   },
   "file_extension": ".py",
   "mimetype": "text/x-python",
   "name": "python",
   "nbconvert_exporter": "python",
   "pygments_lexer": "ipython3",
   "version": "3.10.4"
  }
 },
 "nbformat": 4,
 "nbformat_minor": 5
}
